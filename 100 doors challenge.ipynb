{
 "cells": [
  {
   "cell_type": "code",
   "execution_count": 21,
   "id": "ec59c949",
   "metadata": {},
   "outputs": [
    {
     "name": "stdout",
     "output_type": "stream",
     "text": [
      "[False, False, False, False, False, False, False, False, False, False, False, False, False, False, False, False, False, False, False, False, False, False, False, False, False, False, False, False, False, False, False, False, False, False, False, False, False, False, False, False, False, False, False, False, False, False, False, False, False, False, False, False, False, False, False, False, False, False, False, False, False, False, False, False, False, False, False, False, False, False, False, False, False, False, False, False, False, False, False, False, False, False, False, False, False, False, False, False, False, False, False, False, False, False, False, False, False, False, False, False, False]\n"
     ]
    }
   ],
   "source": [
    "doors =[False]*101\n",
    "print(doors)"
   ]
  },
  {
   "cell_type": "markdown",
   "id": "27074145",
   "metadata": {},
   "source": [
    "for i in range(1,101):\n",
    "    doors[i] = not doors[i]\n",
    "print(doors)"
   ]
  },
  {
   "cell_type": "markdown",
   "id": "77e16ce2",
   "metadata": {},
   "source": [
    "for i in range(1,6):\n",
    "    for j in range(1,4):\n",
    "        print(\"i:\",i,\"j:\",j)\n"
   ]
  },
  {
   "cell_type": "markdown",
   "id": "a363a6fe",
   "metadata": {},
   "source": [
    "for i in range(1,11,2):\n",
    "    print(i)"
   ]
  },
  {
   "cell_type": "code",
   "execution_count": 22,
   "id": "4de5fbb6",
   "metadata": {},
   "outputs": [],
   "source": [
    "for i in range(1,101):\n",
    "    for j in range(i,101,i):\n",
    "        doors[j] = not doors[j]"
   ]
  },
  {
   "cell_type": "code",
   "execution_count": 23,
   "id": "37ad932f",
   "metadata": {},
   "outputs": [
    {
     "name": "stdout",
     "output_type": "stream",
     "text": [
      "1,4,9,16,25,36,49,64,81,100,"
     ]
    }
   ],
   "source": [
    "for i in range (1,101):\n",
    "    if doors[i] is True:\n",
    "        print(i, end=\",\")"
   ]
  },
  {
   "cell_type": "code",
   "execution_count": null,
   "id": "fbd82dd9",
   "metadata": {},
   "outputs": [],
   "source": []
  },
  {
   "cell_type": "code",
   "execution_count": null,
   "id": "bc8e140b",
   "metadata": {},
   "outputs": [],
   "source": []
  }
 ],
 "metadata": {
  "kernelspec": {
   "display_name": "Python 3 (ipykernel)",
   "language": "python",
   "name": "python3"
  },
  "language_info": {
   "codemirror_mode": {
    "name": "ipython",
    "version": 3
   },
   "file_extension": ".py",
   "mimetype": "text/x-python",
   "name": "python",
   "nbconvert_exporter": "python",
   "pygments_lexer": "ipython3",
   "version": "3.9.7"
  }
 },
 "nbformat": 4,
 "nbformat_minor": 5
}
